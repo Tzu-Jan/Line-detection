{
 "cells": [
  {
   "cell_type": "code",
   "execution_count": null,
   "metadata": {},
   "outputs": [],
   "source": [
    "\n",
    "#Function to detect edges\n",
    "def line_detection(image)\n",
    "    \n",
    "#function to locate the intersections of lines \n",
    "def intersections(lines)\n",
    "\n",
    "#project the point on image to the real system\n",
    "def pinhole_model(x,y)\n",
    "\n",
    "#Function to locate the start point to robot coordinate system\n",
    "def locate_start_point(x, y)\n",
    "\n",
    "\n"
   ]
  },
  {
   "cell_type": "code",
   "execution_count": 1,
   "metadata": {},
   "outputs": [],
   "source": [
    "import cv2 as cv\n",
    "import numpy as np\n",
    "\n",
    "#detect the line using SHT\n",
    "def line_detection(image):\n",
    "    img = cv.cvtColor(image, cv.COLOR_BGR2GRAY)\n",
    "    #load camera parameters\n",
    "    # camMtx = np.genfromtxt(\"intrinsics.csv\", delimiter = \",\") \n",
    "    # dist = np.genfromtxt(\"distortion.csv\", delimiter = \",\") \n",
    "    \n",
    "    #image processing\n",
    "    #img = cv.undistort(img, camMtx, dist, None)\n",
    "    img = cv.GaussianBlur(img,(3,3),0)\n",
    "    nimg = cv.bitwise_not(img)\n",
    "    \n",
    "    # compute the median of the single channel pixel intensities\n",
    "    v = np.median(img)\n",
    "    nv = np.median(nimg)\n",
    "    sigma = 0.33\n",
    "    \n",
    "    #Canny edge detection\n",
    "    lower = int(max(0, (1.0 - sigma) * v))\n",
    "    upper = int(min(255, (1.0 + sigma) * v))\n",
    "    edges = cv.Canny(img, lower, upper)\n",
    "    nlower = int(max(0, (1.0 - sigma) * nv))\n",
    "    nupper = int(min(255, (1.0 + sigma) * nv))\n",
    "    nedges = cv.Canny(nimg, nlower, nupper)\n",
    "    \n",
    "    cv.imwrite(\"edges.png\",edges)\n",
    "    cv.imwrite(\"negative_edges.png\",nedges)\n",
    "    \n",
    "    # run Hough on edge detected image\n",
    "    if nedges.mean() > edges.mean():\n",
    "        lines = cv.HoughLines(nedges,1,np.pi/180,135)\n",
    "    else:\n",
    "        lines = cv.HoughLines(edges,1,np.pi/180,135)\n",
    "    # clean noisy lines due to distortion correction\n",
    "    height, width = img.shape\n",
    "    alpha = 0.05\n",
    "    c = 0\n",
    "    for i,line in enumerate(lines):\n",
    "        if (abs(line[0][0]) > (1-alpha)*width) | (abs(line[0][0]) < alpha*height) | ((abs(line[0][0]) > (1-alpha)*height) & (abs(line[0][0]) < height) & (abs(line[0][1]) > np.pi/4)):\n",
    "            lines = np.delete(lines,i-c,axis=0)\n",
    "            c = c+1\n",
    "    res_img = img.copy()\n",
    "    \n",
    "    #plot the lines\n",
    "    for line in lines:\n",
    "        rho,theta=line[0]\n",
    "        a=np.cos(theta)\n",
    "        b=np.sin(theta)\n",
    "        x0=a*rho\n",
    "        y0=b*rho\n",
    "        x1=int(x0+100000*(-b))\n",
    "        y1=int(y0+100000*a)\n",
    "        x2=int(x0-100000*(-b))\n",
    "        y2 = int(y0 - 100000 * a)\n",
    "        cv.line(image,(x1,y1),(x2,y2),(0,0,255),2)\n",
    "        print(\"Line\",  \":(\", x1,y1,\"),(\",x2,y2,\")\")\n",
    "             \n",
    "     \n",
    "    cv.imshow(\"img lines\",image)\n",
    "    cv.imwrite(\"linesDetected.jpg\",res_img)\n",
    "    images = np.hstack((img,nimg,edges,nedges,res_img))\n",
    "\n",
    "    cv.namedWindow(\"image\", cv.WINDOW_AUTOSIZE)\n",
    "    cv.startWindowThread()\n",
    "\n",
    "    \n",
    "#src = cv.imread(\"IMG_3059.jpeg\") \n",
    "#line_detection(src)\n",
    "#cv.waitKey(0)\n",
    "#cv.destroyAllWindows()"
   ]
  },
  {
   "cell_type": "code",
   "execution_count": null,
   "metadata": {},
   "outputs": [
    {
     "name": "stdout",
     "output_type": "stream",
     "text": [
      "826 782\n",
      "Line :( -93621 35157 ),( 94317 -33246 )\n",
      "Line :( -93513 -35431 ),( 93202 36241 )\n",
      "Line :( -92871 -37080 ),( 92564 37840 )\n"
     ]
    }
   ],
   "source": [
    "import cv2 as cv\n",
    "import numpy as np\n",
    "\n",
    "def line_intersection(line1, line2):\n",
    "    xdiff = (line1[0][0] - line1[1][0], line2[0][0] - line2[1][0])\n",
    "    ydiff = (line1[0][1] - line1[1][1], line2[0][1] - line2[1][1])\n",
    "#revise the line representation \n",
    "\n",
    "    def det(a, b):\n",
    "        return a[0] * b[1] - a[1] * b[0]\n",
    "\n",
    "    div = det(xdiff, ydiff)\n",
    "    if div == 0:\n",
    "        raise Exception('lines do not intersect')\n",
    "\n",
    "    d = (det(*line1), det(*line2))\n",
    "    x = det(d, xdiff) / div\n",
    "    y = det(d, ydiff) / div\n",
    "    return x, y\n",
    "    \n",
    "    \n",
    "lineA = [[-93621, 35157],[94317, -33246]]\n",
    "lineB =  [[-93513, -35431],[93202, 36241]]\n",
    "\n",
    "[a,b] = line_intersection(lineA, lineB)\n",
    "x = np.round(a).astype(\"int\")\n",
    "y = np.round(b).astype(\"int\")\n",
    "print(x,y)\n",
    "\n",
    "src = cv.imread(\"IMG_3059.jpeg\")\n",
    "line_detection(src)\n",
    "cv.circle(src,(x,y), 20,(0,0,255),-1)\n",
    "\n",
    "cv.imshow(\"img\",src)\n",
    "cv.waitKey(0)\n",
    "cv.destroyAllWindows()"
   ]
  },
  {
   "cell_type": "code",
   "execution_count": 7,
   "metadata": {},
   "outputs": [
    {
     "data": {
      "text/plain": [
       "[-148.0, -236.0, -500]"
      ]
     },
     "execution_count": 7,
     "metadata": {},
     "output_type": "execute_result"
    }
   ],
   "source": [
    "import cv2 as cv\n",
    "import numpy as np\n",
    "\n",
    "# project the point on image to 3d camera space\n",
    "def pinhole_model(x, y):\n",
    "  \n",
    "    # location of camera, unit: mm, origin point\n",
    "    L = [0, 0, 0]\n",
    "    \n",
    "    # reference point in camera system, unit: mm, fixed value\n",
    "    r0 = [500,500,-500]\n",
    "    # reference point: on image, unit: pixel, fixed value\n",
    "    r = [900,900]\n",
    "    \n",
    "    # focalLength is fixed\n",
    "    f = 250 #assume vaule\n",
    "    \n",
    "    # Calculate the real coordinate using pinhole model\n",
    "    # W = (DxP)/F\n",
    "    x_real = (L[2]-r0[2])*(x-r[0])/f\n",
    "    y_real = (L[2]-r0[2])*(y-r[1])/f\n",
    "    \n",
    "    position = [x_real, y_real, -500]\n",
    "    return position\n",
    "    print (position)\n",
    "\n",
    "a = 826 \n",
    "b = 782\n",
    "pinhole_model(a, b)"
   ]
  },
  {
   "cell_type": "code",
   "execution_count": 2,
   "metadata": {},
   "outputs": [
    {
     "name": "stdout",
     "output_type": "stream",
     "text": [
      "[352.0, 264.0, 100]\n"
     ]
    }
   ],
   "source": [
    "import cv2 as cv\n",
    "import numpy as np\n",
    "\n",
    "#projecct the point from camera into robot coordinate system \n",
    "def locate_start_point(x,y,z):\n",
    "    \n",
    "    # Define the origin point in robot space\n",
    "    RL = [0,0,0]\n",
    "    \n",
    "    #Assume the distance between the two origin point\n",
    "    LinR = [500,500,600]\n",
    "    \n",
    "    #calculate the start point \n",
    "    SPoint = [x+LinR[0], y+LinR[1], z+LinR[2]]\n",
    "    \n",
    "    print(SPoint)\n",
    "\n",
    "locate_start_point(-148.0, -236.0, -500)\n",
    "    \n"
   ]
  },
  {
   "cell_type": "code",
   "execution_count": null,
   "metadata": {},
   "outputs": [],
   "source": []
  }
 ],
 "metadata": {
  "kernelspec": {
   "display_name": "Python 3",
   "language": "python",
   "name": "python3"
  },
  "language_info": {
   "codemirror_mode": {
    "name": "ipython",
    "version": 3
   },
   "file_extension": ".py",
   "mimetype": "text/x-python",
   "name": "python",
   "nbconvert_exporter": "python",
   "pygments_lexer": "ipython3",
   "version": "3.8.5"
  }
 },
 "nbformat": 4,
 "nbformat_minor": 4
}
